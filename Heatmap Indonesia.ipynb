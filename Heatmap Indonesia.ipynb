{
 "cells": [
  {
   "cell_type": "code",
   "execution_count": null,
   "id": "f23a5420",
   "metadata": {},
   "outputs": [],
   "source": [
    "import pandas as pd\n",
    "import numpy as np\n",
    "import leafmap\n",
    "import json\n",
    "import geopandas as gpd\n",
    "import branca.colormap as cm\n",
    "from shapely.geometry import Point, Polygon, shape\n",
    "from IPython.core.display import display, HTML, clear_output"
   ]
  },
  {
   "cell_type": "code",
   "execution_count": null,
   "id": "0e03b163",
   "metadata": {},
   "outputs": [],
   "source": [
    "df_area_geo = gpd.GeoDataFrame()\n",
    "file_path = \"df_area_geo.json\"\n",
    "df_area_geo = gpd.read_file(file_path)"
   ]
  },
  {
   "cell_type": "code",
   "execution_count": null,
   "id": "74de405a",
   "metadata": {
    "scrolled": false
   },
   "outputs": [],
   "source": [
    "# select the variable to fill the color\n",
    "color_by = 'value'\n",
    "# specify the geopandadas dataframe to be ploted in the map\n",
    "selected_gdf = df_area_geo\n",
    "# set the display style\n",
    "style = {\n",
    "    \"stroke\": True,\n",
    "    \"color\": \"#FFFFFF\",\n",
    "    \"weight\": 1,\n",
    "    \"opacity\": 0.7,\n",
    "    \"fill\": True,\n",
    "    \"fillOpacity\": 0.7,\n",
    "}\n",
    "hover_style = {\"color\": \"yellow\", \"weight\": 2,}\n",
    "# create colormap\n",
    "colormap = cm.LinearColormap(colors=['lightyellow','lightcoral','red','darkred'], \n",
    "                             index=[0.2,0.4,0.6,0.8], \n",
    "                             vmin=0,\n",
    "                             vmax=1)\n",
    "\n",
    "def fill_color(feature):\n",
    "    return {\"fillColor\": colormap(feature['properties'][color_by])}\n",
    "\n",
    "# Specify map title\n",
    "display(HTML('<h1>'+'''Area Risk Profile '''+'</h1>'))\n",
    "# Create map\n",
    "m = leafmap.Map(center=[40.7341, -73.9113], zoom = 10, height=\"800px\", \n",
    "                layers_control=True, attribution_control=False, \n",
    "                draw_control=False, measure_control=False)\n",
    "m.clear_layers()\n",
    "m.add_basemap(basemap=\"Stamen.TonerLite\")\n",
    "m.add_gdf(selected_gdf, layer_name='Zone Tons', \n",
    "          hover_style=hover_style, style = style, style_callback=fill_color)\n",
    "m.add_colorbar(colors=['lightyellow','lightcoral','red','darkred'], \n",
    "                             index=[0.2,0.4,0.6,0.8], \n",
    "                             vmin=0,\n",
    "                             vmax=1,\n",
    "               transparent_bg=False, position=\"bottomleft\")\n",
    "m"
   ]
  }
 ],
 "metadata": {
  "kernelspec": {
   "display_name": "Python 3 (ipykernel)",
   "language": "python",
   "name": "python3"
  },
  "language_info": {
   "codemirror_mode": {
    "name": "ipython",
    "version": 3
   },
   "file_extension": ".py",
   "mimetype": "text/x-python",
   "name": "python",
   "nbconvert_exporter": "python",
   "pygments_lexer": "ipython3",
   "version": "3.10.8"
  }
 },
 "nbformat": 4,
 "nbformat_minor": 5
}
